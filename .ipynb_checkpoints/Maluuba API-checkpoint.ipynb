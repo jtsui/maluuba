{
 "metadata": {
  "name": ""
 },
 "nbformat": 3,
 "nbformat_minor": 0,
 "worksheets": [
  {
   "cells": [
    {
     "cell_type": "code",
     "collapsed": false,
     "input": [
      "from maluuba_napi import client\n",
      "import csv\n",
      "import pprint\n",
      "from __future__ import division"
     ],
     "language": "python",
     "metadata": {},
     "outputs": [],
     "prompt_number": 11
    },
    {
     "cell_type": "code",
     "collapsed": false,
     "input": [
      "csv.reader?"
     ],
     "language": "python",
     "metadata": {},
     "outputs": [],
     "prompt_number": 4
    },
    {
     "cell_type": "code",
     "collapsed": false,
     "input": [
      "c=client.NAPIClient('5ald5bubzmX1C8CNp6krpxoOPezui3H2')\n",
      "r=c.interpret('Set up a meeting with Bob tomorrow night at 7 PM to discuss the TPS reports')"
     ],
     "language": "python",
     "metadata": {},
     "outputs": [],
     "prompt_number": 6
    },
    {
     "cell_type": "code",
     "collapsed": false,
     "input": [
      "r=c.interpret('meet josh at 2')"
     ],
     "language": "python",
     "metadata": {},
     "outputs": [],
     "prompt_number": 44
    },
    {
     "cell_type": "markdown",
     "metadata": {},
     "source": [
      "http://napi.maluuba.com/v0/interpret?phrase=remind+me+about+my+denist+appointment+tomorrow+at+2&apikey=5ald5bubzmX1C8CNp6krpxoOPezui3H2"
     ]
    },
    {
     "cell_type": "code",
     "collapsed": false,
     "input": [
      "print 'Category', r.category\n",
      "print 'Action', r.action\n",
      "if len(r.entities.keys()) is 0:\n",
      "    print \"we have a winner\"\n",
      "else:\n",
      "    print \"oh crap!\"\n"
     ],
     "language": "python",
     "metadata": {},
     "outputs": [
      {
       "output_type": "stream",
       "stream": "stdout",
       "text": [
        "Category KNOWLEDGE\n",
        "Action KNOWLEDGE_SEARCH\n",
        "we have a winner\n"
       ]
      }
     ],
     "prompt_number": 42
    },
    {
     "cell_type": "code",
     "collapsed": false,
     "input": [
      "r.entities"
     ],
     "language": "python",
     "metadata": {},
     "outputs": [
      {
       "metadata": {},
       "output_type": "pyout",
       "prompt_number": 45,
       "text": [
        "{u'contacts': [{u'name': u'josh'}],\n",
        " u'timeRange': [{u'end': datetime.time(14, 0),\n",
        "   u'start': datetime.time(14, 0)}]}"
       ]
      }
     ],
     "prompt_number": 45
    },
    {
     "cell_type": "code",
     "collapsed": false,
     "input": [
      "# sentence, category, action, entities\n",
      "#categories\n",
      "relevant_intersection_retrieved = 0\n",
      "retrieved = 0\n",
      "relevant = 0\n",
      "#action\n",
      "relevant_intersection_retrieved_a = 0\n",
      "retrieved_a = 0\n",
      "relevant_a = 0\n",
      "\n",
      "#entities\n",
      "relevant_intersection_retrieved_e = 0\n",
      "retrieved_e = 0\n",
      "relevant_e = 0\n",
      "\n",
      "results = [['sentence','category','retrieved category','correct','action','retrieved action', 'correct']]\n",
      "\n",
      "with open('maluuba_test_set_small.csv') as csvfile:\n",
      "    case_reader = csv.reader(csvfile, delimiter=',')\n",
      "    for row in case_reader:\n",
      "        interpreted_sent=c.interpret(row[0])\n",
      "        # category\n",
      "        isCorrectCategory = 0\n",
      "        if interpreted_sent.category is None:\n",
      "            # failed to retrieve relevant result\n",
      "            #TODO: include 'KNOWLEDGE' category here\n",
      "            relevant += 1\n",
      "        if interpreted_sent.category == row[1]:\n",
      "            relevant_intersection_retrieved += 1\n",
      "            retrieved += 1\n",
      "            relevant += 1\n",
      "            isCorrectCategory = 1\n",
      "        else:\n",
      "            retrieved += 1\n",
      "        # action\n",
      "        isCorrectAction = 0\n",
      "        if interpreted_sent.action is None:\n",
      "            # failed to retrieve relevant result\n",
      "            #TODO: include 'KNOWLEDGE_SEARCH' action here\n",
      "            relevant_a += 1\n",
      "        if interpreted_sent.action == row[2]:\n",
      "            relevant_intersection_retrieved_a += 1\n",
      "            retrieved_a += 1\n",
      "            relevant_a += 1\n",
      "            isCorrectAction = 1\n",
      "        else:\n",
      "            retrieved_a += 1\n",
      "        results.append([row[0], row[1], interpreted_sent.category, isCorrectCategory, row[2], interpreted_sent.action, isCorrectAction])\n",
      "        '''\n",
      "        # entity\n",
      "        entities = row[3].split('|')\n",
      "        retrieved_entities = interpreted_sent.entities\n",
      "        if interpreted_sent.entities is None:\n",
      "            if row[1] is None:\n",
      "                relevant_intersection_retrieved_e += 1\n",
      "                retrieved_e += 1\n",
      "                relevant_e += 1\n",
      "            else:\n",
      "                relevant_e += 1  \n",
      "        else:\n",
      "            for \n",
      "            interpreted_sent.entities in :\n",
      "            relevant_intersection_retrieved_e += 1\n",
      "            retrieved_e += 1\n",
      "            relevant_e += 1\n",
      "        else:\n",
      "            retrieved_e += 1\n",
      "        '''\n",
      "        print '.',\n"
     ],
     "language": "python",
     "metadata": {},
     "outputs": [
      {
       "output_type": "stream",
       "stream": "stdout",
       "text": [
        ". "
       ]
      },
      {
       "output_type": "stream",
       "stream": "stdout",
       "text": [
        ". "
       ]
      },
      {
       "output_type": "stream",
       "stream": "stdout",
       "text": [
        ". "
       ]
      },
      {
       "output_type": "stream",
       "stream": "stdout",
       "text": [
        ". "
       ]
      },
      {
       "output_type": "stream",
       "stream": "stdout",
       "text": [
        ". "
       ]
      },
      {
       "output_type": "stream",
       "stream": "stdout",
       "text": [
        ". "
       ]
      },
      {
       "output_type": "stream",
       "stream": "stdout",
       "text": [
        ". "
       ]
      },
      {
       "output_type": "stream",
       "stream": "stdout",
       "text": [
        ". "
       ]
      },
      {
       "output_type": "stream",
       "stream": "stdout",
       "text": [
        ". "
       ]
      },
      {
       "output_type": "stream",
       "stream": "stdout",
       "text": [
        ". "
       ]
      },
      {
       "output_type": "stream",
       "stream": "stdout",
       "text": [
        ". "
       ]
      },
      {
       "output_type": "stream",
       "stream": "stdout",
       "text": [
        ". "
       ]
      },
      {
       "output_type": "stream",
       "stream": "stdout",
       "text": [
        ". "
       ]
      },
      {
       "output_type": "stream",
       "stream": "stdout",
       "text": [
        ". "
       ]
      },
      {
       "output_type": "stream",
       "stream": "stdout",
       "text": [
        ". "
       ]
      },
      {
       "output_type": "stream",
       "stream": "stdout",
       "text": [
        ". "
       ]
      },
      {
       "output_type": "stream",
       "stream": "stdout",
       "text": [
        ". "
       ]
      },
      {
       "output_type": "stream",
       "stream": "stdout",
       "text": [
        ". "
       ]
      },
      {
       "output_type": "stream",
       "stream": "stdout",
       "text": [
        ". "
       ]
      },
      {
       "output_type": "stream",
       "stream": "stdout",
       "text": [
        ". "
       ]
      },
      {
       "output_type": "stream",
       "stream": "stdout",
       "text": [
        ". "
       ]
      },
      {
       "output_type": "stream",
       "stream": "stdout",
       "text": [
        ". "
       ]
      },
      {
       "output_type": "stream",
       "stream": "stdout",
       "text": [
        ". "
       ]
      },
      {
       "output_type": "stream",
       "stream": "stdout",
       "text": [
        ". "
       ]
      },
      {
       "output_type": "stream",
       "stream": "stdout",
       "text": [
        ". "
       ]
      },
      {
       "output_type": "stream",
       "stream": "stdout",
       "text": [
        ". "
       ]
      },
      {
       "output_type": "stream",
       "stream": "stdout",
       "text": [
        ". "
       ]
      },
      {
       "output_type": "stream",
       "stream": "stdout",
       "text": [
        ". "
       ]
      },
      {
       "output_type": "stream",
       "stream": "stdout",
       "text": [
        ". "
       ]
      },
      {
       "output_type": "stream",
       "stream": "stdout",
       "text": [
        ". "
       ]
      },
      {
       "output_type": "stream",
       "stream": "stdout",
       "text": [
        ". "
       ]
      },
      {
       "output_type": "stream",
       "stream": "stdout",
       "text": [
        ". "
       ]
      },
      {
       "output_type": "stream",
       "stream": "stdout",
       "text": [
        ". "
       ]
      },
      {
       "output_type": "stream",
       "stream": "stdout",
       "text": [
        ". "
       ]
      },
      {
       "output_type": "stream",
       "stream": "stdout",
       "text": [
        ". "
       ]
      },
      {
       "output_type": "stream",
       "stream": "stdout",
       "text": [
        ". "
       ]
      },
      {
       "output_type": "stream",
       "stream": "stdout",
       "text": [
        ". "
       ]
      },
      {
       "output_type": "stream",
       "stream": "stdout",
       "text": [
        ". "
       ]
      },
      {
       "output_type": "stream",
       "stream": "stdout",
       "text": [
        ". "
       ]
      },
      {
       "output_type": "stream",
       "stream": "stdout",
       "text": [
        ". "
       ]
      },
      {
       "output_type": "stream",
       "stream": "stdout",
       "text": [
        ". "
       ]
      },
      {
       "output_type": "stream",
       "stream": "stdout",
       "text": [
        ". "
       ]
      },
      {
       "output_type": "stream",
       "stream": "stdout",
       "text": [
        ". "
       ]
      },
      {
       "output_type": "stream",
       "stream": "stdout",
       "text": [
        ". "
       ]
      },
      {
       "output_type": "stream",
       "stream": "stdout",
       "text": [
        ". "
       ]
      },
      {
       "output_type": "stream",
       "stream": "stdout",
       "text": [
        ". "
       ]
      },
      {
       "output_type": "stream",
       "stream": "stdout",
       "text": [
        ". "
       ]
      },
      {
       "output_type": "stream",
       "stream": "stdout",
       "text": [
        ". "
       ]
      },
      {
       "output_type": "stream",
       "stream": "stdout",
       "text": [
        ". "
       ]
      },
      {
       "output_type": "stream",
       "stream": "stdout",
       "text": [
        ". "
       ]
      },
      {
       "output_type": "stream",
       "stream": "stdout",
       "text": [
        ". "
       ]
      },
      {
       "output_type": "stream",
       "stream": "stdout",
       "text": [
        ". "
       ]
      },
      {
       "output_type": "stream",
       "stream": "stdout",
       "text": [
        ". "
       ]
      },
      {
       "output_type": "stream",
       "stream": "stdout",
       "text": [
        ". "
       ]
      },
      {
       "output_type": "stream",
       "stream": "stdout",
       "text": [
        ". "
       ]
      },
      {
       "output_type": "stream",
       "stream": "stdout",
       "text": [
        ". "
       ]
      },
      {
       "output_type": "stream",
       "stream": "stdout",
       "text": [
        ". "
       ]
      },
      {
       "output_type": "stream",
       "stream": "stdout",
       "text": [
        ". "
       ]
      },
      {
       "output_type": "stream",
       "stream": "stdout",
       "text": [
        ". "
       ]
      },
      {
       "output_type": "stream",
       "stream": "stdout",
       "text": [
        ". "
       ]
      },
      {
       "output_type": "stream",
       "stream": "stdout",
       "text": [
        ". "
       ]
      },
      {
       "output_type": "stream",
       "stream": "stdout",
       "text": [
        ". "
       ]
      },
      {
       "output_type": "stream",
       "stream": "stdout",
       "text": [
        ". "
       ]
      },
      {
       "output_type": "stream",
       "stream": "stdout",
       "text": [
        ". "
       ]
      },
      {
       "output_type": "stream",
       "stream": "stdout",
       "text": [
        ". "
       ]
      },
      {
       "output_type": "stream",
       "stream": "stdout",
       "text": [
        ". "
       ]
      },
      {
       "output_type": "stream",
       "stream": "stdout",
       "text": [
        ". "
       ]
      },
      {
       "output_type": "stream",
       "stream": "stdout",
       "text": [
        ". "
       ]
      },
      {
       "output_type": "stream",
       "stream": "stdout",
       "text": [
        ". "
       ]
      },
      {
       "output_type": "stream",
       "stream": "stdout",
       "text": [
        ". "
       ]
      },
      {
       "output_type": "stream",
       "stream": "stdout",
       "text": [
        ". "
       ]
      },
      {
       "output_type": "stream",
       "stream": "stdout",
       "text": [
        ". "
       ]
      },
      {
       "output_type": "stream",
       "stream": "stdout",
       "text": [
        ". "
       ]
      },
      {
       "output_type": "stream",
       "stream": "stdout",
       "text": [
        ". "
       ]
      },
      {
       "output_type": "stream",
       "stream": "stdout",
       "text": [
        ". "
       ]
      },
      {
       "output_type": "stream",
       "stream": "stdout",
       "text": [
        ". "
       ]
      },
      {
       "output_type": "stream",
       "stream": "stdout",
       "text": [
        ". "
       ]
      },
      {
       "output_type": "stream",
       "stream": "stdout",
       "text": [
        ". "
       ]
      },
      {
       "output_type": "stream",
       "stream": "stdout",
       "text": [
        ". "
       ]
      },
      {
       "output_type": "stream",
       "stream": "stdout",
       "text": [
        ". "
       ]
      },
      {
       "output_type": "stream",
       "stream": "stdout",
       "text": [
        ". "
       ]
      },
      {
       "output_type": "stream",
       "stream": "stdout",
       "text": [
        ".\n"
       ]
      }
     ],
     "prompt_number": 47
    },
    {
     "cell_type": "code",
     "collapsed": false,
     "input": [
      "precision = relevant_intersection_retrieved/retrieved\n",
      "recall = relevant_intersection_retrieved/relevant\n",
      "precision_a = relevant_intersection_retrieved_a/retrieved_a\n",
      "recall_a = relevant_intersection_retrieved_a/relevant_a\n",
      "# precision_e = relevant_intersection_retrieved_e/retrieved_e\n",
      "# recall_e = relevant_intersection_retrieved_e/relevant_e\n",
      "\n",
      "print 'Category: Precision',precision,'Recall',recall\n",
      "print 'Action: Precision',precision_a,'Recall',recall_a\n",
      "# print 'Entity: Precision',precision_e,'Recall',recall_e"
     ],
     "language": "python",
     "metadata": {},
     "outputs": [
      {
       "output_type": "stream",
       "stream": "stdout",
       "text": [
        "Category: Precision 1.0 Recall 1.0\n",
        "Action: Precision 1.0 Recall 1.0\n"
       ]
      }
     ],
     "prompt_number": 27
    },
    {
     "cell_type": "code",
     "collapsed": false,
     "input": [
      "with open(\"output.csv\", \"wb\") as f:\n",
      "    writer = csv.writer(f)\n",
      "    writer.writerows(results)\n"
     ],
     "language": "python",
     "metadata": {},
     "outputs": [],
     "prompt_number": 48
    },
    {
     "cell_type": "code",
     "collapsed": false,
     "input": [
      "retrieved_a"
     ],
     "language": "python",
     "metadata": {},
     "outputs": [
      {
       "metadata": {},
       "output_type": "pyout",
       "prompt_number": 24,
       "text": [
        "82"
       ]
      }
     ],
     "prompt_number": 24
    },
    {
     "cell_type": "code",
     "collapsed": false,
     "input": [
      "c = client.NAPIClient('YOUR-API-KEY-HERE')\n",
      ">>> r = c.interpret('Set up a meeting with Bob tomorrow night at 7 PM to discuss the TPS reports')\n",
      ">>> r.category\n",
      "u'CALENDAR'\n",
      ">>> r.action\n",
      "u'CALENDAR_CREATE_EVENT'\n",
      ">>> pp.pprint(r.entities)\n",
      "{   u'contacts': [{   u'name': u'bob'}],\n",
      "    u'dateRange': [   {   u'end': datetime.date(2012, 11, 16),\n",
      "                          u'start': datetime.date(2012, 11, 15)}],\n",
      "    u'timeRange': [   {   u'end': datetime.time(19, 0),\n",
      "                          u'start': datetime.time(19, 0)}],\n",
      "    u'title': [u'meeting to discuss the tps reports']}"
     ],
     "language": "python",
     "metadata": {},
     "outputs": []
    },
    {
     "cell_type": "code",
     "collapsed": false,
     "input": [
      "import datetime\n",
      "import unittest\n",
      "\n",
      "from maluuba_napi import client\n",
      "\n",
      "class TestSetup(object):\n",
      "\t\"\"\"Maluuba NAPI test cases.\"\"\"\n",
      "\n",
      "\tdef setUp(self):\n",
      "\t\tpass\n",
      "\n",
      "class TestBaseMixin(object):\n",
      "\tclient = client.NAPIClient('5ald5bubzmX1C8CNp6krpxoOPezui3H2')\n",
      "\n",
      "\tdef checkPhrase(self, phrase, category, action, **kwargs):\n",
      "\t\tr = self.client.interpret(phrase)\n",
      "\t\tself.assertEquals(category, r.category)\n",
      "\t\tself.assertEquals(action, r.action)\n",
      "\t\tfor key, value in kwargs.iteritems():\n",
      "\t\t\tself.assertTrue(key in r.entities)\n",
      "\t\t\tself.assertEquals(r.entities[key] if isinstance(value, (list, tuple)) else r.entities[key][0], value)\n",
      "\n",
      "class ClientTestSuite(TestSetup, TestBaseMixin, unittest.TestCase):\n",
      "\tdef test_business_search(self):\n",
      "\t\tself.checkPhrase('where can I buy a hammer', 'BUSINESS', 'BUSINESS_SEARCH', searchTerm='hammer')\n",
      "\t\tself.checkPhrase('i am hungry', 'BUSINESS', 'BUSINESS_SEARCH', searchTerm='hungry')\n",
      "\t\tself.checkPhrase('i want some pizza', 'BUSINESS', 'BUSINESS_SEARCH', searchTerm='pizza')\n",
      "\n",
      "\tdef test_business_reservation(self):\n",
      "\t\tself.checkPhrase('book a table for 2 at an italian restaurant nearby', 'BUSINESS', 'BUSINESS_RESERVATION', numPeople='2', searchTerm='italian')\n",
      "\t\tself.checkPhrase('reserve a room at a hotel', 'BUSINESS', 'BUSINESS_RESERVATION', searchTerm='hotel')\n",
      "\n",
      "\tdef test_call_dial(self):\n",
      "\t\tself.checkPhrase('call josh', 'CALL', 'CALL_DIAL', contacts=[{'name': 'josh'}, {'organization': 'josh'}])\n",
      "\t\tself.checkPhrase('dial pizza hut', 'CALL', 'CALL_DIAL', contacts=[{'name': 'pizza hut'}, {'organization': 'pizza hut'}])\n",
      "\n",
      "\tdef test_call_check_missed(self):\n",
      "\t\tself.checkPhrase('did i miss any calls', 'CALL', 'CALL_CHECK_MISSED', )\n",
      "\n",
      "\tdef test_call_respond_missed(self):\n",
      "\t\tself.checkPhrase('respond to that missed call', 'CALL', 'CALL_RESPOND_MISSED')\n",
      "\n",
      "\tdef test_call_accept_incoming(self):\n",
      "\t\tself.checkPhrase('accept this call', 'CALL', 'CALL_ACCEPT_INCOMING')\n",
      "\n",
      "\tdef test_contact_add(self):\n",
      "\t\tself.checkPhrase('add josh 5551234', 'CONTACT', 'CONTACT_ADD', contactFieldValue='5551234', contacts={'name': 'josh'})\n",
      "\n",
      "\tdef test_contact_search(self):\n",
      "\t\tself.checkPhrase('what is josh\\'s phone number', 'CONTACT', 'CONTACT_SEARCH', contactField='phone number', contacts={'name': 'josh'})\n",
      "\t\tself.checkPhrase('show me adrian\\'s information', 'CONTACT', 'CONTACT_SEARCH', contacts={'name': 'adrian'})\n",
      "\n",
      "\tdef test_contact_set_alias(self):\n",
      "\t\tself.checkPhrase('elizabeth is my mom', 'CONTACT', 'CONTACT_SET_ALIAS', contacts=[{'name': 'elizabeth'}, {'alias': 'MOTHER'}])\n",
      "\n",
      "\tdef test_knowledge(self):\n",
      "\t\tself.checkPhrase('who is Barack Obama', 'KNOWLEDGE', 'KNOWLEDGE_SEARCH')\n",
      "\t\tself.checkPhrase('who is the president', 'KNOWLEDGE', 'KNOWLEDGE_SEARCH')\n",
      "\t\tself.checkPhrase('what is two plus two', 'KNOWLEDGE', 'KNOWLEDGE_SEARCH')\n",
      "\t\tself.checkPhrase('what is the tallest mountain', 'KNOWLEDGE', 'KNOWLEDGE_SEARCH')\n",
      "\n",
      "\tdef test_entertainment_movie(self):\n",
      "\t\tself.checkPhrase('I want to see a funny movie', 'ENTERTAINMENT', 'ENTERTAINMENT_MOVIE', genre='comedy')\n",
      "\t\tself.checkPhrase('I want to see skyfall', 'ENTERTAINMENT', 'ENTERTAINMENT_MOVIE', title='skyfall')\n",
      "\n",
      "\tdef test_entertainment_event(self):\n",
      "\t\tself.checkPhrase('when do the leafs play', 'ENTERTAINMENT', 'ENTERTAINMENT_EVENT', event='leafs')\n",
      "\t\tself.checkPhrase('I want to see justin bieber', 'ENTERTAINMENT', 'ENTERTAINMENT_EVENT', event='justin bieber')\n",
      "\n",
      "\tdef test_entertainment_ambiguous(self):\n",
      "\t\tself.checkPhrase('what\\'s fun to do on the weekend', 'ENTERTAINMENT', 'ENTERTAINMENT_AMBIGUOUS')\n",
      "\n",
      "\tdef test_email_send(self):\n",
      "\t\tself.checkPhrase('email adrian about the api', 'EMAIL', 'EMAIL_SEND', subject='Api', contacts={'name': 'adrian'})\n",
      "\n",
      "\tdef test_email_display(self):\n",
      "\t\tself.checkPhrase('show me emails from josh', 'EMAIL', 'EMAIL_DISPLAY', contacts={'name': 'josh'})\n",
      "\n",
      "\tdef test_help_help(self):\n",
      "\t\tself.checkPhrase('help', 'HELP', 'HELP_HELP')\n",
      "\t\tself.checkPhrase('what can you do', 'HELP', 'HELP_HELP')\n",
      "\n",
      "\tdef test_travel_flight(self):\n",
      "\t\tself.checkPhrase('i would like a first class ticket to new york leaving from toronto on the day before christmas returning a week after christmas', 'TRAVEL', 'TRAVEL_FLIGHT')\n",
      "\n",
      "\tdef test_music_play(self):\n",
      "\t\tself.checkPhrase('play the song firework', 'MUSIC', 'MUSIC_PLAY', title='firework')\n",
      "\n",
      "\tdef test_music_pause(self):\n",
      "\t\tself.checkPhrase('please pause the music', 'MUSIC', 'MUSIC_PAUSE')\n",
      "\n",
      "\tdef test_calendar_create_event(self):\n",
      "\t\tself.checkPhrase('Set up a meeting from 8 to 10', 'CALENDAR', 'CALENDAR_CREATE_EVENT', title='meeting')\n",
      "\n",
      "\tdef test_calendar_search(self):\n",
      "\t\tself.checkPhrase('what meetings do I have on Friday', 'CALENDAR', 'CALENDAR_SEARCH', title='meetings')\n",
      "\n",
      "\tdef test_calendar_remove_event(self):\n",
      "\t\tself.checkPhrase('Cancel my next meeting', 'CALENDAR', 'CALENDAR_REMOVE_EVENT', title='meeting')\n",
      "\n",
      "\tdef test_calendar_modify_event(self):\n",
      "\t\tself.checkPhrase('Move my 5 o\\'clock to 7', 'CALENDAR', 'CALENDAR_MODIFY_EVENT')\n",
      "\n",
      "\tdef test_calendar_availability(self):\n",
      "\t\tself.checkPhrase('When am I available', 'CALENDAR', 'CALENDAR_AVAILABILITY')\n",
      "\n",
      "\tdef test_weather_status(self):\n",
      "\t\tself.checkPhrase('What is the weather outside?', 'WEATHER', 'WEATHER_STATUS')\n",
      "\n",
      "\tdef test_weather_details(self):\n",
      "\t\tself.checkPhrase('What is the wind speed?', 'WEATHER', 'WEATHER_DETAILS')\n",
      "\n",
      "\tdef test_weather_sunset(self):\n",
      "\t\tself.checkPhrase('When is the sunset?', 'WEATHER', 'WEATHER_SUNSET')\n",
      "\n",
      "\tdef test_weather_sunrise(self):\n",
      "\t\tself.checkPhrase('When is sunrise for Friday?', 'WEATHER', 'WEATHER_SUNRISE')\n",
      "\n",
      "\tdef test_reminder_set(self):\n",
      "\t\tself.checkPhrase('Remind me to put out the garbage tonight', 'REMINDER', 'REMINDER_SET', message='put out the garbage', time='06:00:00PM')\n",
      "\n",
      "\tdef test_reminder_search(self):\n",
      "\t\tself.checkPhrase('Find me reminders for this week', 'REMINDER', 'REMINDER_SEARCH')\n",
      "\n",
      "\tdef test_alarm_set(self):\n",
      "\t\tself.checkPhrase('set an alarm for five thirty', 'ALARM', 'ALARM_SET', )\n",
      "\n",
      "\tdef test_alarm_set_recurring(self):\n",
      "\t\tself.checkPhrase('Set an alarm at five thirty every morning', 'ALARM', 'ALARM_SET_RECURRING')\n",
      "\n",
      "\tdef test_alarm_modify(self):\n",
      "\t\tself.checkPhrase('Change my morning alarms from 5 to 7', 'ALARM', 'ALARM_MODIFY')\n",
      "\n",
      "\tdef test_alarm_cancel(self):\n",
      "\t\tself.checkPhrase('Cancel my alarm at 6 tonight', 'ALARM', 'ALARM_CANCEL')\n",
      "\n",
      "\tdef test_alarm_cancel_all_alarms(self):\n",
      "\t\tself.checkPhrase('Remove all my alarms', 'ALARM', 'ALARM_CANCEL_ALL_ALARMS')\n",
      "\n",
      "\tdef test_alarm_search(self):\n",
      "\t\tself.checkPhrase('Find my alarms', 'ALARM', 'ALARM_SEARCH')\n",
      "\n",
      "\tdef test_timer_start(self):\n",
      "\t\tself.checkPhrase('Set a 30 minute timer', 'TIMER', 'TIMER_START')\n",
      "\n",
      "\tdef test_timer_display(self):\n",
      "\t\tself.checkPhrase('show my timer', 'TIMER', 'TIMER_DISPLAY')\n",
      "\n",
      "\tdef test_timer_cancel(self):\n",
      "\t\tself.checkPhrase('cancel the timer', 'TIMER', 'TIMER_CANCEL')\n",
      "\n",
      "\tdef test_timer_pause(self):\n",
      "\t\tself.checkPhrase('pause timer', 'TIMER', 'TIMER_PAUSE')\n",
      "\n",
      "\tdef test_stopwatch_start(self):\n",
      "\t\tself.checkPhrase('start a stopwatch', 'STOPWATCH', 'STOPWATCH_START')\n",
      "\n",
      "\tdef test_stopwatch_stop(self):\n",
      "\t\tself.checkPhrase('stop a stopwatch', 'STOPWATCH', 'STOPWATCH_STOP')\n",
      "\n",
      "\tdef test_stopwatch_display(self):\n",
      "\t\tself.checkPhrase('display the stopwatch', 'STOPWATCH', 'STOPWATCH_DISPLAY')\n",
      "\n",
      "\tdef test_navigation_directions(self):\n",
      "\t\tself.checkPhrase('How do I get to the mall from my house', 'NAVIGATION', 'NAVIGATION_DIRECTIONS', departing='house', destination='mall')\n",
      "\t\tself.checkPhrase('how do I get to san francisco', 'NAVIGATION', 'NAVIGATION_DIRECTIONS', destination='san francisco')\n",
      "\n",
      "\tdef test_navigation_where_am_i(self):\n",
      "\t\tself.checkPhrase('Show my current location', 'NAVIGATION', 'NAVIGATION_WHERE_AM_I')\n",
      "\n",
      "\tdef test_transit_next_bus(self):\n",
      "\t\tself.checkPhrase('When will the next bus come to the university', 'TRANSIT', 'TRANSIT_NEXT_BUS', departing='university', transitType='bus')\n",
      "\n",
      "\tdef test_transit_nearby_stops(self):\n",
      "\t\tself.checkPhrase('bus stops near the mall', 'TRANSIT', 'TRANSIT_NEARBY_STOPS', departing='mall', transitType='bus', destination='mall')\n",
      "\n",
      "\tdef test_transit_schedule(self):\n",
      "\t\tself.checkPhrase('What is the schedule for the green route tomorrow', 'TRANSIT', 'TRANSIT_SCHEDULE', route='green')\n",
      "\n",
      "\tdef test_search_amazon(self):\n",
      "\t\tself.checkPhrase('i want to buy a book on amazon', 'SEARCH', 'SEARCH_AMAZON', searchTerm='book')\n",
      "\t\tself.checkPhrase('search amazon for electronics', 'SEARCH', 'SEARCH_AMAZON', searchTerm='electronics')\n",
      "\n",
      "\tdef test_search_bing(self):\n",
      "\t\tself.checkPhrase('bing search ryan seacrest', 'SEARCH', 'SEARCH_BING', searchTerm='ryan seacrest')\n",
      "\n",
      "\tdef test_search_ebay(self):\n",
      "\t\tself.checkPhrase('search ebay for socks', 'SEARCH', 'SEARCH_EBAY', searchTerm='socks')\n",
      "\n",
      "\tdef test_search_default(self):\n",
      "\t\tself.checkPhrase('search the web for cheese', 'SEARCH', 'SEARCH_DEFAULT', searchTerm='cheese')\n",
      "\n",
      "\tdef test_search_google(self):\n",
      "\t\tself.checkPhrase('google search androids', 'SEARCH', 'SEARCH_GOOGLE', searchTerm='androids')\n",
      "\n",
      "\tdef test_search_recipes(self):\n",
      "\t\tself.checkPhrase('how do i make butter chicken', 'SEARCH', 'SEARCH_RECIPES', searchTerm='butter chicken')\n",
      "\n",
      "\tdef test_search_wikipedia(self):\n",
      "\t\tself.checkPhrase('search wikipedia for the romans', 'SEARCH', 'SEARCH_WIKIPEDIA', searchTerm='romans')\n",
      "\n",
      "\tdef test_text_display(self):\n",
      "\t\tself.checkPhrase('show unread texts', 'TEXT', 'TEXT_DISPLAY')\n",
      "\n",
      "\tdef test_text_send(self):\n",
      "\t\tself.checkPhrase('send a text to rob how is the law stuff', 'TEXT', 'TEXT_SEND', contacts={'name': 'rob'}, message='how is the law stuff')\n",
      "\n",
      "\tdef test_social_facebook_send_message(self):\n",
      "\t\tself.checkPhrase('send a facebook message to zhiyuan hey g', 'SOCIAL', 'SOCIAL_FACEBOOK_SEND_MESSAGE')\n",
      "\n",
      "\tdef test_social_facebook_show_newsfeed(self):\n",
      "\t\tself.checkPhrase('show me my facebook newsfeed', 'SOCIAL', 'SOCIAL_FACEBOOK_SHOW_NEWSFEED')\n",
      "\n",
      "\tdef test_social_facebook_show_photos(self):\n",
      "\t\tself.checkPhrase('show me pictures of irene', 'SOCIAL', 'SOCIAL_FACEBOOK_SHOW_PHOTOS', contacts={'name': 'irene'})\n",
      "\n",
      "\tdef test_social_facebook_show_wall(self):\n",
      "\t\tself.checkPhrase('take me to cynthia\\'s facebook wall', 'SOCIAL', 'SOCIAL_FACEBOOK_SHOW_WALL', contacts={'name': 'cynthia'})\n",
      "\n",
      "\tdef test_social_facebook_write_on_wall(self):\n",
      "\t\tself.checkPhrase('write on sam\\'s wall good luck in korea', 'SOCIAL', 'SOCIAL_FACEBOOK_WRITE_ON_WALL', contacts={'name': 'sam'}, message='good luck in korea')\n",
      "\n",
      "\tdef test_social_foursquare_check_in(self):\n",
      "\t\tself.checkPhrase('check me in at communitech', 'SOCIAL', 'SOCIAL_FOURSQUARE_CHECK_IN')\n",
      "\n",
      "\tdef test_social_foursquare_show_checkins(self):\n",
      "\t\tself.checkPhrase('where have i checked in', 'SOCIAL', 'SOCIAL_FOURSQUARE_SHOW_CHECKINS')\n",
      "\n",
      "\tdef test_social_twitter_show_follower(self):\n",
      "\t\tself.checkPhrase('show my twitter timeline', 'SOCIAL', 'SOCIAL_TWITTER_SHOW_FOLLOWER')\n",
      "\n",
      "\tdef test_social_twitter_show_trending(self):\n",
      "\t\tself.checkPhrase('what is trending on twitter', 'SOCIAL', 'SOCIAL_TWITTER_SHOW_TRENDING')\n",
      "\n",
      "\tdef test_social_twitter_tweet(self):\n",
      "\t\tself.checkPhrase('tweet i want a burrito', 'SOCIAL', 'SOCIAL_TWITTER_TWEET', message='i want a burrito')\n",
      "\n",
      "\tdef test_sports_misc(self):\n",
      "\t\tself.checkPhrase('what was the score of the game last night', 'SPORTS', 'SPORTS_MISC')\n",
      "\n",
      "\tdef test_application_launch(self):\n",
      "\t\tself.checkPhrase('launch angry birds', 'APPLICATION', 'APPLICATION_LAUNCH', appName='angry birds')\n"
     ],
     "language": "python",
     "metadata": {},
     "outputs": [],
     "prompt_number": 19
    },
    {
     "cell_type": "code",
     "collapsed": false,
     "input": [
      "test_application_launch()"
     ],
     "language": "python",
     "metadata": {},
     "outputs": [
      {
       "ename": "NameError",
       "evalue": "name 'test_application_launch' is not defined",
       "output_type": "pyerr",
       "traceback": [
        "\u001b[0;31m---------------------------------------------------------------------------\u001b[0m\n\u001b[0;31mNameError\u001b[0m                                 Traceback (most recent call last)",
        "\u001b[0;32m<ipython-input-20-a66f2e88a955>\u001b[0m in \u001b[0;36m<module>\u001b[0;34m()\u001b[0m\n\u001b[0;32m----> 1\u001b[0;31m \u001b[0mtest_application_launch\u001b[0m\u001b[0;34m(\u001b[0m\u001b[0;34m)\u001b[0m\u001b[0;34m\u001b[0m\u001b[0m\n\u001b[0m",
        "\u001b[0;31mNameError\u001b[0m: name 'test_application_launch' is not defined"
       ]
      }
     ],
     "prompt_number": 20
    },
    {
     "cell_type": "code",
     "collapsed": false,
     "input": [],
     "language": "python",
     "metadata": {},
     "outputs": []
    }
   ],
   "metadata": {}
  }
 ]
}